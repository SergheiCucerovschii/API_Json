{
  "nbformat": 4,
  "nbformat_minor": 0,
  "metadata": {
    "colab": {
      "name": "Untitled0.ipynb",
      "provenance": [],
      "authorship_tag": "ABX9TyNA0vguZBKBTCpmOhr3cJlS",
      "include_colab_link": true
    },
    "kernelspec": {
      "name": "python3",
      "display_name": "Python 3"
    }
  },
  "cells": [
    {
      "cell_type": "markdown",
      "metadata": {
        "id": "view-in-github",
        "colab_type": "text"
      },
      "source": [
        "<a href=\"https://colab.research.google.com/github/SergheiCucerovschii/API_Json/blob/main/Untitled0.ipynb\" target=\"_parent\"><img src=\"https://colab.research.google.com/assets/colab-badge.svg\" alt=\"Open In Colab\"/></a>"
      ]
    },
    {
      "cell_type": "code",
      "metadata": {
        "id": "2Mk4zyGTIxGp"
      },
      "source": [
        "import pandas\n"
      ],
      "execution_count": 6,
      "outputs": []
    },
    {
      "cell_type": "code",
      "metadata": {
        "id": "vKPqUbStJClr"
      },
      "source": [
        "trips_data = pandas.read_excel(\"/content/trips_data.xlsx\", index_col=0)"
      ],
      "execution_count": 7,
      "outputs": []
    },
    {
      "cell_type": "code",
      "metadata": {
        "colab": {
          "base_uri": "https://localhost:8080/",
          "height": 204
        },
        "id": "yqcWTTJIJrS7",
        "outputId": "8dbf37bd-1117-419d-dba8-2dc1cec0f3e7"
      },
      "source": [
        "trips_data.head()"
      ],
      "execution_count": 8,
      "outputs": [
        {
          "output_type": "execute_result",
          "data": {
            "text/html": [
              "<div>\n",
              "<style scoped>\n",
              "    .dataframe tbody tr th:only-of-type {\n",
              "        vertical-align: middle;\n",
              "    }\n",
              "\n",
              "    .dataframe tbody tr th {\n",
              "        vertical-align: top;\n",
              "    }\n",
              "\n",
              "    .dataframe thead th {\n",
              "        text-align: right;\n",
              "    }\n",
              "</style>\n",
              "<table border=\"1\" class=\"dataframe\">\n",
              "  <thead>\n",
              "    <tr style=\"text-align: right;\">\n",
              "      <th></th>\n",
              "      <th>salary</th>\n",
              "      <th>city</th>\n",
              "      <th>age</th>\n",
              "      <th>vacation_preference</th>\n",
              "      <th>transport_preference</th>\n",
              "      <th>family_members</th>\n",
              "      <th>target</th>\n",
              "    </tr>\n",
              "  </thead>\n",
              "  <tbody>\n",
              "    <tr>\n",
              "      <th>0</th>\n",
              "      <td>196000</td>\n",
              "      <td>Краснодар</td>\n",
              "      <td>25</td>\n",
              "      <td>Шоппинг</td>\n",
              "      <td>Автомобиль</td>\n",
              "      <td>1</td>\n",
              "      <td>New York</td>\n",
              "    </tr>\n",
              "    <tr>\n",
              "      <th>1</th>\n",
              "      <td>152000</td>\n",
              "      <td>Екатеринбург</td>\n",
              "      <td>60</td>\n",
              "      <td>Архитектура</td>\n",
              "      <td>Самолет</td>\n",
              "      <td>1</td>\n",
              "      <td>London</td>\n",
              "    </tr>\n",
              "    <tr>\n",
              "      <th>2</th>\n",
              "      <td>83000</td>\n",
              "      <td>Томск</td>\n",
              "      <td>49</td>\n",
              "      <td>Архитектура</td>\n",
              "      <td>Автомобиль</td>\n",
              "      <td>2</td>\n",
              "      <td>Sydney</td>\n",
              "    </tr>\n",
              "    <tr>\n",
              "      <th>3</th>\n",
              "      <td>161000</td>\n",
              "      <td>Краснодар</td>\n",
              "      <td>41</td>\n",
              "      <td>Шоппинг</td>\n",
              "      <td>Автомобиль</td>\n",
              "      <td>0</td>\n",
              "      <td>New York</td>\n",
              "    </tr>\n",
              "    <tr>\n",
              "      <th>4</th>\n",
              "      <td>146000</td>\n",
              "      <td>Краснодар</td>\n",
              "      <td>58</td>\n",
              "      <td>Архитектура</td>\n",
              "      <td>Самолет</td>\n",
              "      <td>1</td>\n",
              "      <td>Sydney</td>\n",
              "    </tr>\n",
              "  </tbody>\n",
              "</table>\n",
              "</div>"
            ],
            "text/plain": [
              "   salary          city  age  ... transport_preference family_members    target\n",
              "0  196000     Краснодар   25  ...           Автомобиль              1  New York\n",
              "1  152000  Екатеринбург   60  ...              Самолет              1    London\n",
              "2   83000         Томск   49  ...           Автомобиль              2    Sydney\n",
              "3  161000     Краснодар   41  ...           Автомобиль              0  New York\n",
              "4  146000     Краснодар   58  ...              Самолет              1    Sydney\n",
              "\n",
              "[5 rows x 7 columns]"
            ]
          },
          "metadata": {
            "tags": []
          },
          "execution_count": 8
        }
      ]
    },
    {
      "cell_type": "code",
      "metadata": {
        "colab": {
          "base_uri": "https://localhost:8080/"
        },
        "id": "EyktxbwDJv_m",
        "outputId": "a1c154ba-ad60-467f-8f74-d672c8581544"
      },
      "source": [
        "trips_data.salary.describe()\n"
      ],
      "execution_count": 9,
      "outputs": [
        {
          "output_type": "execute_result",
          "data": {
            "text/plain": [
              "count      1000.000000\n",
              "mean     111935.000000\n",
              "std       54580.049073\n",
              "min           0.000000\n",
              "25%       68000.000000\n",
              "50%       99000.000000\n",
              "75%      161000.000000\n",
              "max      250000.000000\n",
              "Name: salary, dtype: float64"
            ]
          },
          "metadata": {
            "tags": []
          },
          "execution_count": 9
        }
      ]
    },
    {
      "cell_type": "code",
      "metadata": {
        "id": "9nsRN07TLBQo",
        "colab": {
          "base_uri": "https://localhost:8080/",
          "height": 282
        },
        "outputId": "193d144e-1da8-4d04-d6ee-4a0f8f45ddef"
      },
      "source": [
        "trips_data.salary.hist()"
      ],
      "execution_count": 11,
      "outputs": [
        {
          "output_type": "execute_result",
          "data": {
            "text/plain": [
              "<matplotlib.axes._subplots.AxesSubplot at 0x7f4a6a31f080>"
            ]
          },
          "metadata": {
            "tags": []
          },
          "execution_count": 11
        },
        {
          "output_type": "display_data",
          "data": {
            "image/png": "[encoded data removed]",
            "text/plain": [
              "<Figure size 432x288 with 1 Axes>"
            ]
          },
          "metadata": {
            "tags": [],
            "needs_background": "light"
          }
        }
      ]
    },
    {
      "cell_type": "code",
      "metadata": {
        "colab": {
          "base_uri": "https://localhost:8080/",
          "height": 282
        },
        "id": "AAfJ6Iv2gDwa",
        "outputId": "e5e19f0c-f34e-43c1-e5d0-a31b5446cefd"
      },
      "source": [
        "trips_data.city.value_counts().plot(kind='barh')"
      ],
      "execution_count": 15,
      "outputs": [
        {
          "output_type": "execute_result",
          "data": {
            "text/plain": [
              "<matplotlib.axes._subplots.AxesSubplot at 0x7f4a61e94be0>"
            ]
          },
          "metadata": {
            "tags": []
          },
          "execution_count": 15
        },
        {
          "output_type": "display_data",
          "data": {
            "image/png": "[encoded data removed]",
            "text/plain": [
              "<Figure size 432x288 with 1 Axes>"
            ]
          },
          "metadata": {
            "tags": [],
            "needs_background": "light"
          }
        }
      ]
    },
    {
      "cell_type": "code",
      "metadata": {
        "colab": {
          "base_uri": "https://localhost:8080/",
          "height": 282
        },
        "id": "_DNc-eTNgvVQ",
        "outputId": "eb68551a-1ea0-4285-b399-d41b6774ba35"
      },
      "source": [
        "trips_data.transport_preference.value_counts().plot(kind='barh')"
      ],
      "execution_count": 20,
      "outputs": [
        {
          "output_type": "execute_result",
          "data": {
            "text/plain": [
              "<matplotlib.axes._subplots.AxesSubplot at 0x7f4a61cf65f8>"
            ]
          },
          "metadata": {
            "tags": []
          },
          "execution_count": 20
        },
        {
          "output_type": "display_data",
          "data": {
            "image/png": "[encoded data removed]",
            "text/plain": [
              "<Figure size 432x288 with 1 Axes>"
            ]
          },
          "metadata": {
            "tags": [],
            "needs_background": "light"
          }
        }
      ]
    },
    {
      "cell_type": "code",
      "metadata": {
        "id": "RT7lbuUbh2yK"
      },
      "source": [
        "final_data = pandas.get_dummies(trips_data, columns=['city', 'vacation_preference','transport_preference'])"
      ],
      "execution_count": 24,
      "outputs": []
    },
    {
      "cell_type": "code",
      "metadata": {
        "id": "laFPPl4Ri88b"
      },
      "source": [
        "X = final_data.drop('target', axis=1) # данные на основе которых мы построем прогноз"
      ],
      "execution_count": 27,
      "outputs": []
    },
    {
      "cell_type": "code",
      "metadata": {
        "id": "EYcx4N2vjmvV"
      },
      "source": [
        "y = final_data.target # данные , которые мы хотим предсказать "
      ],
      "execution_count": 28,
      "outputs": []
    },
    {
      "cell_type": "code",
      "metadata": {
        "id": "l33g-7r8kJhY"
      },
      "source": [
        "from sklearn.ensemble import RandomForestClassifier"
      ],
      "execution_count": 30,
      "outputs": []
    },
    {
      "cell_type": "code",
      "metadata": {
        "colab": {
          "base_uri": "https://localhost:8080/"
        },
        "id": "NFnRn1x8kZS9",
        "outputId": "89ca2bc7-e844-4f71-8187-aedcd5233b7a"
      },
      "source": [
        "y.value_counts()"
      ],
      "execution_count": 31,
      "outputs": [
        {
          "output_type": "execute_result",
          "data": {
            "text/plain": [
              "Paris       203\n",
              "New York    201\n",
              "London      199\n",
              "Tokio       199\n",
              "Sydney      198\n",
              "Name: target, dtype: int64"
            ]
          },
          "metadata": {
            "tags": []
          },
          "execution_count": 31
        }
      ]
    },
    {
      "cell_type": "code",
      "metadata": {
        "id": "DncMsizkki8N"
      },
      "source": [
        "forest = RandomForestClassifier() # в скобочках можно указывать найстройки"
      ],
      "execution_count": 32,
      "outputs": []
    },
    {
      "cell_type": "code",
      "metadata": {
        "colab": {
          "base_uri": "https://localhost:8080/"
        },
        "id": "EMuffjRblAMO",
        "outputId": "bc196efa-e790-4bde-ada3-db9affe80682"
      },
      "source": [
        "forest.fit(X,y)"
      ],
      "execution_count": 33,
      "outputs": [
        {
          "output_type": "execute_result",
          "data": {
            "text/plain": [
              "RandomForestClassifier(bootstrap=True, ccp_alpha=0.0, class_weight=None,\n",
              "                       criterion='gini', max_depth=None, max_features='auto',\n",
              "                       max_leaf_nodes=None, max_samples=None,\n",
              "                       min_impurity_decrease=0.0, min_impurity_split=None,\n",
              "                       min_samples_leaf=1, min_samples_split=2,\n",
              "                       min_weight_fraction_leaf=0.0, n_estimators=100,\n",
              "                       n_jobs=None, oob_score=False, random_state=None,\n",
              "                       verbose=0, warm_start=False)"
            ]
          },
          "metadata": {
            "tags": []
          },
          "execution_count": 33
        }
      ]
    },
    {
      "cell_type": "code",
      "metadata": {
        "colab": {
          "base_uri": "https://localhost:8080/",
          "height": 117
        },
        "id": "Ngu8J51rlDrg",
        "outputId": "fe0a2705-7fff-462f-fac0-482db91ed336"
      },
      "source": [
        "X.head(1)"
      ],
      "execution_count": 34,
      "outputs": [
        {
          "output_type": "execute_result",
          "data": {
            "text/html": [
              "<div>\n",
              "<style scoped>\n",
              "    .dataframe tbody tr th:only-of-type {\n",
              "        vertical-align: middle;\n",
              "    }\n",
              "\n",
              "    .dataframe tbody tr th {\n",
              "        vertical-align: top;\n",
              "    }\n",
              "\n",
              "    .dataframe thead th {\n",
              "        text-align: right;\n",
              "    }\n",
              "</style>\n",
              "<table border=\"1\" class=\"dataframe\">\n",
              "  <thead>\n",
              "    <tr style=\"text-align: right;\">\n",
              "      <th></th>\n",
              "      <th>salary</th>\n",
              "      <th>age</th>\n",
              "      <th>family_members</th>\n",
              "      <th>city_Екатеринбург</th>\n",
              "      <th>city_Киев</th>\n",
              "      <th>city_Краснодар</th>\n",
              "      <th>city_Минск</th>\n",
              "      <th>city_Москва</th>\n",
              "      <th>city_Новосибирск</th>\n",
              "      <th>city_Омск</th>\n",
              "      <th>city_Петербург</th>\n",
              "      <th>city_Томск</th>\n",
              "      <th>city_Хабаровск</th>\n",
              "      <th>city_Ярославль</th>\n",
              "      <th>vacation_preference_Архитектура</th>\n",
              "      <th>vacation_preference_Ночные клубы</th>\n",
              "      <th>vacation_preference_Пляжный отдых</th>\n",
              "      <th>vacation_preference_Шоппинг</th>\n",
              "      <th>transport_preference_Автомобиль</th>\n",
              "      <th>transport_preference_Космический корабль</th>\n",
              "      <th>transport_preference_Морской транспорт</th>\n",
              "      <th>transport_preference_Поезд</th>\n",
              "      <th>transport_preference_Самолет</th>\n",
              "    </tr>\n",
              "  </thead>\n",
              "  <tbody>\n",
              "    <tr>\n",
              "      <th>0</th>\n",
              "      <td>196000</td>\n",
              "      <td>25</td>\n",
              "      <td>1</td>\n",
              "      <td>0</td>\n",
              "      <td>0</td>\n",
              "      <td>1</td>\n",
              "      <td>0</td>\n",
              "      <td>0</td>\n",
              "      <td>0</td>\n",
              "      <td>0</td>\n",
              "      <td>0</td>\n",
              "      <td>0</td>\n",
              "      <td>0</td>\n",
              "      <td>0</td>\n",
              "      <td>0</td>\n",
              "      <td>0</td>\n",
              "      <td>0</td>\n",
              "      <td>1</td>\n",
              "      <td>1</td>\n",
              "      <td>0</td>\n",
              "      <td>0</td>\n",
              "      <td>0</td>\n",
              "      <td>0</td>\n",
              "    </tr>\n",
              "  </tbody>\n",
              "</table>\n",
              "</div>"
            ],
            "text/plain": [
              "   salary  age  ...  transport_preference_Поезд  transport_preference_Самолет\n",
              "0  196000   25  ...                           0                             0\n",
              "\n",
              "[1 rows x 23 columns]"
            ]
          },
          "metadata": {
            "tags": []
          },
          "execution_count": 34
        }
      ]
    },
    {
      "cell_type": "code",
      "metadata": {
        "colab": {
          "base_uri": "https://localhost:8080/"
        },
        "id": "ei-W19hUlj7G",
        "outputId": "f60215aa-e4b0-4e63-fb7a-aa91734dd144"
      },
      "source": [
        "{ col:[0] for col in X.columns}"
      ],
      "execution_count": 36,
      "outputs": [
        {
          "output_type": "execute_result",
          "data": {
            "text/plain": [
              "{'age': [0],\n",
              " 'city_Екатеринбург': [0],\n",
              " 'city_Киев': [0],\n",
              " 'city_Краснодар': [0],\n",
              " 'city_Минск': [0],\n",
              " 'city_Москва': [0],\n",
              " 'city_Новосибирск': [0],\n",
              " 'city_Омск': [0],\n",
              " 'city_Петербург': [0],\n",
              " 'city_Томск': [0],\n",
              " 'city_Хабаровск': [0],\n",
              " 'city_Ярославль': [0],\n",
              " 'family_members': [0],\n",
              " 'salary': [0],\n",
              " 'transport_preference_Автомобиль': [0],\n",
              " 'transport_preference_Космический корабль': [0],\n",
              " 'transport_preference_Морской транспорт': [0],\n",
              " 'transport_preference_Поезд': [0],\n",
              " 'transport_preference_Самолет': [0],\n",
              " 'vacation_preference_Архитектура': [0],\n",
              " 'vacation_preference_Ночные клубы': [0],\n",
              " 'vacation_preference_Пляжный отдых': [0],\n",
              " 'vacation_preference_Шоппинг': [0]}"
            ]
          },
          "metadata": {
            "tags": []
          },
          "execution_count": 36
        }
      ]
    },
    {
      "cell_type": "code",
      "metadata": {
        "id": "kunKuXBMl_fc"
      },
      "source": [
        "example = {'age': [50],\n",
        " 'city_Екатеринбург': [0],\n",
        " 'city_Киев': [0],\n",
        " 'city_Краснодар': [0],\n",
        " 'city_Минск': [0],\n",
        " 'city_Москва': [0],\n",
        " 'city_Новосибирск': [0],\n",
        " 'city_Омск': [0],\n",
        " 'city_Петербург': [0],\n",
        " 'city_Томск': [0],\n",
        " 'city_Хабаровск': [1],\n",
        " 'city_Ярославль': [0],\n",
        " 'family_members': [0],\n",
        " 'salary': [150000],\n",
        " 'transport_preference_Автомобиль': [0],\n",
        " 'transport_preference_Космический корабль': [0],\n",
        " 'transport_preference_Морской транспорт': [0],\n",
        " 'transport_preference_Поезд': [0],\n",
        " 'transport_preference_Самолет': [1],\n",
        " 'vacation_preference_Архитектура': [0],\n",
        " 'vacation_preference_Ночные клубы': [0],\n",
        " 'vacation_preference_Пляжный отдых': [0],\n",
        " 'vacation_preference_Шоппинг': [1]}"
      ],
      "execution_count": 40,
      "outputs": []
    },
    {
      "cell_type": "code",
      "metadata": {
        "id": "HfXi925EmVje"
      },
      "source": [
        "example_dataframe = pandas.DataFrame(example)"
      ],
      "execution_count": 41,
      "outputs": []
    },
    {
      "cell_type": "code",
      "metadata": {
        "colab": {
          "base_uri": "https://localhost:8080/"
        },
        "id": "N4G4YdMwmaHu",
        "outputId": "05ee1601-f84c-4944-ab1b-57d49dd5cb9e"
      },
      "source": [
        "forest.predict(example_dataframe)"
      ],
      "execution_count": 42,
      "outputs": [
        {
          "output_type": "execute_result",
          "data": {
            "text/plain": [
              "array(['Paris'], dtype=object)"
            ]
          },
          "metadata": {
            "tags": []
          },
          "execution_count": 42
        }
      ]
    },
    {
      "cell_type": "code",
      "metadata": {
        "colab": {
          "base_uri": "https://localhost:8080/"
        },
        "id": "R1ID8jlYmv6N",
        "outputId": "14a03733-c941-4a1e-bf7d-2bb9fbbc69a6"
      },
      "source": [
        "forest.predict_proba(example_dataframe)"
      ],
      "execution_count": 43,
      "outputs": [
        {
          "output_type": "execute_result",
          "data": {
            "text/plain": [
              "array([[0.24, 0.1 , 0.59, 0.03, 0.04]])"
            ]
          },
          "metadata": {
            "tags": []
          },
          "execution_count": 43
        }
      ]
    },
    {
      "cell_type": "code",
      "metadata": {
        "colab": {
          "base_uri": "https://localhost:8080/"
        },
        "id": "tWnO8wSFm2es",
        "outputId": "4f8d5a3d-da12-4047-f46f-d1a99bf25118"
      },
      "source": [
        "forest.classes_"
      ],
      "execution_count": 44,
      "outputs": [
        {
          "output_type": "execute_result",
          "data": {
            "text/plain": [
              "array(['London', 'New York', 'Paris', 'Sydney', 'Tokio'], dtype=object)"
            ]
          },
          "metadata": {
            "tags": []
          },
          "execution_count": 44
        }
      ]
    },
    {
      "cell_type": "code",
      "metadata": {
        "id": "YbVP1h67m5QA"
      },
      "source": [
        ""
      ],
      "execution_count": null,
      "outputs": []
    },
    {
      "cell_type": "code",
      "metadata": {
        "id": "2poL5grGnCx9"
      },
      "source": [
        ""
      ],
      "execution_count": null,
      "outputs": []
    },
    {
      "cell_type": "code",
      "metadata": {
        "id": "QoUv5ABvnDEc"
      },
      "source": [
        ""
      ],
      "execution_count": null,
      "outputs": []
    },
    {
      "cell_type": "code",
      "metadata": {
        "id": "Ddqlv4NNnDUs"
      },
      "source": [
        ""
      ],
      "execution_count": null,
      "outputs": []
    }
  ]
}